{
  "nbformat": 4,
  "nbformat_minor": 0,
  "metadata": {
    "colab": {
      "name": "MultipleClassification_Article.ipynb",
      "provenance": [],
      "collapsed_sections": [],
      "authorship_tag": "ABX9TyOWbtvBcSm+mdq/ijKWMkBk",
      "include_colab_link": true
    },
    "kernelspec": {
      "name": "python3",
      "display_name": "Python 3"
    }
  },
  "cells": [
    {
      "cell_type": "markdown",
      "metadata": {
        "id": "view-in-github",
        "colab_type": "text"
      },
      "source": [
        "<a href=\"https://colab.research.google.com/github/LeeSuA/MachineLearning-Study/blob/main/MultipleClassification_Article.ipynb\" target=\"_parent\"><img src=\"https://colab.research.google.com/assets/colab-badge.svg\" alt=\"Open In Colab\"/></a>"
      ]
    },
    {
      "cell_type": "markdown",
      "metadata": {
        "id": "L0x7X9Rj2N23"
      },
      "source": [
        "- 로이터 데이터셋(뉴스)을 46개의 상호 배타적인 토픽으로 분류하는 예제\r\n",
        "- 단일 레이블 다중 분류 예제\r\n",
        "- 훈련샘플 : 8982개 , 테스트샘플 : 2246개"
      ]
    },
    {
      "cell_type": "code",
      "metadata": {
        "colab": {
          "base_uri": "https://localhost:8080/"
        },
        "id": "KYPf3otb0Wyt",
        "outputId": "98f8d211-f783-44ce-bde6-db5af740b14d"
      },
      "source": [
        "from keras.datasets import reuters\r\n",
        "\r\n",
        "# num_words는 데이터에서 가장 자주 등장하는 단어 1만 개로 제한\r\n",
        "(train_data, train_labels), (test_data, test_labels) = reuters.load_data(\r\n",
        "     num_words=10000)"
      ],
      "execution_count": null,
      "outputs": [
        {
          "output_type": "stream",
          "text": [
            "/usr/local/lib/python3.6/dist-packages/tensorflow/python/keras/datasets/reuters.py:148: VisibleDeprecationWarning: Creating an ndarray from ragged nested sequences (which is a list-or-tuple of lists-or-tuples-or ndarrays with different lengths or shapes) is deprecated. If you meant to do this, you must specify 'dtype=object' when creating the ndarray\n",
            "  x_train, y_train = np.array(xs[:idx]), np.array(labels[:idx])\n",
            "/usr/local/lib/python3.6/dist-packages/tensorflow/python/keras/datasets/reuters.py:149: VisibleDeprecationWarning: Creating an ndarray from ragged nested sequences (which is a list-or-tuple of lists-or-tuples-or ndarrays with different lengths or shapes) is deprecated. If you meant to do this, you must specify 'dtype=object' when creating the ndarray\n",
            "  x_test, y_test = np.array(xs[idx:]), np.array(labels[idx:])\n"
          ],
          "name": "stderr"
        }
      ]
    },
    {
      "cell_type": "code",
      "metadata": {
        "colab": {
          "base_uri": "https://localhost:8080/"
        },
        "id": "_5CYlvHE0aZB",
        "outputId": "5261d2ae-8417-4324-93c0-83dad6ad161c"
      },
      "source": [
        "print(len(train_data))\r\n",
        "print(len(test_data))"
      ],
      "execution_count": null,
      "outputs": [
        {
          "output_type": "stream",
          "text": [
            "8982\n",
            "2246\n"
          ],
          "name": "stdout"
        }
      ]
    },
    {
      "cell_type": "code",
      "metadata": {
        "colab": {
          "base_uri": "https://localhost:8080/"
        },
        "id": "KQvQXO_f0gzW",
        "outputId": "2ddc0450-165d-4035-ac8a-01f383315f20"
      },
      "source": [
        "train_data[10]"
      ],
      "execution_count": null,
      "outputs": [
        {
          "output_type": "execute_result",
          "data": {
            "text/plain": [
              "[1,\n",
              " 245,\n",
              " 273,\n",
              " 207,\n",
              " 156,\n",
              " 53,\n",
              " 74,\n",
              " 160,\n",
              " 26,\n",
              " 14,\n",
              " 46,\n",
              " 296,\n",
              " 26,\n",
              " 39,\n",
              " 74,\n",
              " 2979,\n",
              " 3554,\n",
              " 14,\n",
              " 46,\n",
              " 4689,\n",
              " 4329,\n",
              " 86,\n",
              " 61,\n",
              " 3499,\n",
              " 4795,\n",
              " 14,\n",
              " 61,\n",
              " 451,\n",
              " 4329,\n",
              " 17,\n",
              " 12]"
            ]
          },
          "metadata": {
            "tags": []
          },
          "execution_count": 10
        }
      ]
    },
    {
      "cell_type": "code",
      "metadata": {
        "id": "LyzhAKEL0ivO"
      },
      "source": [
        "word_index = reuters.get_word_index()\r\n",
        "reverse_word_index = dict([(value, key) for (key, value) in word_index.items()])\r\n",
        "decoded_newswire = ' '.join([reverse_word_index.get(i - 3, '?') for i in train_data[0]])\r\n",
        "# 0, 1, 2는 ‘패딩’, ‘문서 시작’, ‘사전에 없음’을 위한 인덱스이므로 3을 뺍니다."
      ],
      "execution_count": null,
      "outputs": []
    },
    {
      "cell_type": "code",
      "metadata": {
        "colab": {
          "base_uri": "https://localhost:8080/"
        },
        "id": "_Ow-MUAR0nVe",
        "outputId": "06fa7a49-deeb-41d2-fbe1-4a695eb35ffb"
      },
      "source": [
        "train_labels[10]"
      ],
      "execution_count": null,
      "outputs": [
        {
          "output_type": "execute_result",
          "data": {
            "text/plain": [
              "3"
            ]
          },
          "metadata": {
            "tags": []
          },
          "execution_count": 12
        }
      ]
    },
    {
      "cell_type": "code",
      "metadata": {
        "id": "IAfLBdRu0qFe"
      },
      "source": [
        "# 데이터 준비\r\n",
        "# 데이터를 벡터로 변환\r\n",
        "import numpy as np\r\n",
        "\r\n",
        "def vectorize_sequences(sequences, dimension=10000):\r\n",
        "    results = np.zeros((len(sequences), dimension))\r\n",
        "    for i, sequence in enumerate(sequences):\r\n",
        "        results[i, sequence] = 1.\r\n",
        "    return results\r\n",
        "\r\n",
        "x_train = vectorize_sequences(train_data) # 훈련 데이터 벡터 변환\r\n",
        "x_test = vectorize_sequences(test_data) # 테스트 데이터 벡터 변환"
      ],
      "execution_count": null,
      "outputs": []
    },
    {
      "cell_type": "code",
      "metadata": {
        "id": "FUvNyCJZ0-N9"
      },
      "source": [
        "# one-hot encoding\r\n",
        "def to_one_hot(labels, dimension=46):\r\n",
        "    results = np.zeros((len(labels), dimension))\r\n",
        "    for i, label in enumerate(labels):\r\n",
        "        results[i, label] = 1.\r\n",
        "    return results\r\n",
        "\r\n",
        "one_hot_train_labels = to_one_hot(train_labels) # 훈련 레이블 벡터 변환\r\n",
        "one_hot_test_labels = to_one_hot(test_labels) # 테스트 레이블 벡터 변환"
      ],
      "execution_count": null,
      "outputs": []
    },
    {
      "cell_type": "code",
      "metadata": {
        "id": "rKKBXTUh1ANm"
      },
      "source": [
        "from keras.utils.np_utils import to_categorical\r\n",
        "\r\n",
        "one_hot_train_labels = to_categorical(train_labels)\r\n",
        "one_hot_test_labels = to_categorical(test_labels)"
      ],
      "execution_count": null,
      "outputs": []
    },
    {
      "cell_type": "code",
      "metadata": {
        "id": "fPSVpsYp1DL1"
      },
      "source": [
        "from keras import models\r\n",
        "from keras import layers\r\n",
        "\r\n",
        "model = models.Sequential()\r\n",
        "model.add(layers.Dense(64, activation='relu', input_shape=(10000,)))\r\n",
        "model.add(layers.Dense(64, activation='relu'))\r\n",
        "model.add(layers.Dense(46, activation='softmax'))"
      ],
      "execution_count": null,
      "outputs": []
    },
    {
      "cell_type": "code",
      "metadata": {
        "id": "U-1MoGfc1Efl"
      },
      "source": [
        "model.compile(optimizer='rmsprop',\r\n",
        "              loss='categorical_crossentropy',\r\n",
        "              metrics=['accuracy'])"
      ],
      "execution_count": null,
      "outputs": []
    },
    {
      "cell_type": "code",
      "metadata": {
        "id": "YdBGFkD-1FsV"
      },
      "source": [
        "x_val = x_train[:1000]\r\n",
        "partial_x_train = x_train[1000:]\r\n",
        "\r\n",
        "y_val = one_hot_train_labels[:1000]\r\n",
        "partial_y_train = one_hot_train_labels[1000:]"
      ],
      "execution_count": null,
      "outputs": []
    },
    {
      "cell_type": "code",
      "metadata": {
        "colab": {
          "base_uri": "https://localhost:8080/"
        },
        "id": "hqmbiESu1HRd",
        "outputId": "6924f642-990f-4644-f51f-a4c8e26a2f6e"
      },
      "source": [
        "history = model.fit(partial_x_train,\r\n",
        "                    partial_y_train,\r\n",
        "                    epochs=20,\r\n",
        "                    batch_size=512,\r\n",
        "                    validation_data=(x_val, y_val))"
      ],
      "execution_count": null,
      "outputs": [
        {
          "output_type": "stream",
          "text": [
            "Epoch 1/20\n",
            "16/16 [==============================] - 2s 69ms/step - loss: 2.9829 - accuracy: 0.4275 - val_loss: 1.5998 - val_accuracy: 0.6620\n",
            "Epoch 2/20\n",
            "16/16 [==============================] - 1s 43ms/step - loss: 1.4002 - accuracy: 0.7070 - val_loss: 1.2540 - val_accuracy: 0.7230\n",
            "Epoch 3/20\n",
            "16/16 [==============================] - 1s 43ms/step - loss: 1.0596 - accuracy: 0.7612 - val_loss: 1.1000 - val_accuracy: 0.7590\n",
            "Epoch 4/20\n",
            "16/16 [==============================] - 1s 43ms/step - loss: 0.8194 - accuracy: 0.8270 - val_loss: 1.0053 - val_accuracy: 0.7870\n",
            "Epoch 5/20\n",
            "16/16 [==============================] - 1s 43ms/step - loss: 0.6514 - accuracy: 0.8578 - val_loss: 0.9447 - val_accuracy: 0.8010\n",
            "Epoch 6/20\n",
            "16/16 [==============================] - 1s 44ms/step - loss: 0.5291 - accuracy: 0.8895 - val_loss: 0.9354 - val_accuracy: 0.8020\n",
            "Epoch 7/20\n",
            "16/16 [==============================] - 1s 44ms/step - loss: 0.4133 - accuracy: 0.9148 - val_loss: 0.8915 - val_accuracy: 0.8070\n",
            "Epoch 8/20\n",
            "16/16 [==============================] - 1s 44ms/step - loss: 0.3270 - accuracy: 0.9305 - val_loss: 0.9169 - val_accuracy: 0.8010\n",
            "Epoch 9/20\n",
            "16/16 [==============================] - 1s 45ms/step - loss: 0.2850 - accuracy: 0.9396 - val_loss: 0.9045 - val_accuracy: 0.8030\n",
            "Epoch 10/20\n",
            "16/16 [==============================] - 1s 51ms/step - loss: 0.2394 - accuracy: 0.9449 - val_loss: 0.9261 - val_accuracy: 0.8160\n",
            "Epoch 11/20\n",
            "16/16 [==============================] - 1s 46ms/step - loss: 0.1979 - accuracy: 0.9534 - val_loss: 0.8908 - val_accuracy: 0.8240\n",
            "Epoch 12/20\n",
            "16/16 [==============================] - 1s 44ms/step - loss: 0.1709 - accuracy: 0.9568 - val_loss: 0.9171 - val_accuracy: 0.8120\n",
            "Epoch 13/20\n",
            "16/16 [==============================] - 1s 44ms/step - loss: 0.1527 - accuracy: 0.9556 - val_loss: 0.9310 - val_accuracy: 0.8210\n",
            "Epoch 14/20\n",
            "16/16 [==============================] - 1s 45ms/step - loss: 0.1346 - accuracy: 0.9625 - val_loss: 1.0351 - val_accuracy: 0.7860\n",
            "Epoch 15/20\n",
            "16/16 [==============================] - 1s 45ms/step - loss: 0.1320 - accuracy: 0.9580 - val_loss: 1.0137 - val_accuracy: 0.7970\n",
            "Epoch 16/20\n",
            "16/16 [==============================] - 1s 48ms/step - loss: 0.1268 - accuracy: 0.9589 - val_loss: 1.0620 - val_accuracy: 0.7940\n",
            "Epoch 17/20\n",
            "16/16 [==============================] - 1s 45ms/step - loss: 0.1151 - accuracy: 0.9601 - val_loss: 1.0882 - val_accuracy: 0.7860\n",
            "Epoch 18/20\n",
            "16/16 [==============================] - 1s 45ms/step - loss: 0.1108 - accuracy: 0.9620 - val_loss: 1.0848 - val_accuracy: 0.7940\n",
            "Epoch 19/20\n",
            "16/16 [==============================] - 1s 44ms/step - loss: 0.1059 - accuracy: 0.9604 - val_loss: 1.0458 - val_accuracy: 0.8000\n",
            "Epoch 20/20\n",
            "16/16 [==============================] - 1s 45ms/step - loss: 0.0963 - accuracy: 0.9640 - val_loss: 1.1327 - val_accuracy: 0.7940\n"
          ],
          "name": "stdout"
        }
      ]
    },
    {
      "cell_type": "code",
      "metadata": {
        "colab": {
          "base_uri": "https://localhost:8080/",
          "height": 295
        },
        "id": "ocv_ygdZ1Jsd",
        "outputId": "8935f559-d18d-47c5-d15d-0339ecdfa6d0"
      },
      "source": [
        "import matplotlib.pyplot as plt\r\n",
        "\r\n",
        "loss = history.history['loss']\r\n",
        "val_loss = history.history['val_loss']\r\n",
        "\r\n",
        "epochs = range(1, len(loss) + 1)\r\n",
        "\r\n",
        "plt.plot(epochs, loss, 'bo', label='Training loss')\r\n",
        "plt.plot(epochs, val_loss, 'b', label='Validation loss')\r\n",
        "plt.title('Training and validation loss')\r\n",
        "plt.xlabel('Epochs')\r\n",
        "plt.ylabel('Loss')\r\n",
        "plt.legend()\r\n",
        "\r\n",
        "plt.show()"
      ],
      "execution_count": null,
      "outputs": [
        {
          "output_type": "display_data",
          "data": {
            "image/png": "[encoded data removed]",
            "text/plain": [
              "<Figure size 432x288 with 1 Axes>"
            ]
          },
          "metadata": {
            "tags": [],
            "needs_background": "light"
          }
        }
      ]
    },
    {
      "cell_type": "code",
      "metadata": {
        "colab": {
          "base_uri": "https://localhost:8080/",
          "height": 295
        },
        "id": "q1eWCiyp1L69",
        "outputId": "c5a7737c-a71e-4817-c69b-582e2f5c59ea"
      },
      "source": [
        "plt.clf() # 그래프 초기화\r\n",
        "\r\n",
        "acc = history.history['accuracy']\r\n",
        "val_acc = history.history['val_accuracy']\r\n",
        "\r\n",
        "plt.plot(epochs, acc, 'bo', label='Training acc')\r\n",
        "plt.plot(epochs, val_acc, 'b', label='Validation acc')\r\n",
        "plt.title('Training and validation accuracy')\r\n",
        "plt.xlabel('Epochs')\r\n",
        "plt.ylabel('Accuracy')\r\n",
        "plt.legend()\r\n",
        "\r\n",
        "plt.show()"
      ],
      "execution_count": null,
      "outputs": [
        {
          "output_type": "display_data",
          "data": {
            "image/png": "[encoded data removed]",
            "text/plain": [
              "<Figure size 432x288 with 1 Axes>"
            ]
          },
          "metadata": {
            "tags": [],
            "needs_background": "light"
          }
        }
      ]
    },
    {
      "cell_type": "code",
      "metadata": {
        "colab": {
          "base_uri": "https://localhost:8080/"
        },
        "id": "zeKs05MG1NrW",
        "outputId": "b40096ca-2729-4f8d-f460-01b2e441677b"
      },
      "source": [
        "model = models.Sequential()\r\n",
        "model.add(layers.Dense(64, activation='relu', input_shape=(10000,)))\r\n",
        "model.add(layers.Dense(64, activation='relu'))\r\n",
        "model.add(layers.Dense(46, activation='softmax'))\r\n",
        "\r\n",
        "model.compile(optimizer='rmsprop',\r\n",
        "              loss='categorical_crossentropy',\r\n",
        "              metrics=['accuracy'])\r\n",
        "model.fit(partial_x_train,\r\n",
        "          partial_y_train,\r\n",
        "          epochs=9,\r\n",
        "          batch_size=512,\r\n",
        "          validation_data=(x_val, y_val))\r\n",
        "results = model.evaluate(x_test, one_hot_test_labels)"
      ],
      "execution_count": null,
      "outputs": [
        {
          "output_type": "stream",
          "text": [
            "Epoch 1/9\n",
            "16/16 [==============================] - 1s 54ms/step - loss: 3.1249 - accuracy: 0.4030 - val_loss: 1.7294 - val_accuracy: 0.6520\n",
            "Epoch 2/9\n",
            "16/16 [==============================] - 1s 42ms/step - loss: 1.5101 - accuracy: 0.6927 - val_loss: 1.2962 - val_accuracy: 0.7110\n",
            "Epoch 3/9\n",
            "16/16 [==============================] - 1s 42ms/step - loss: 1.0637 - accuracy: 0.7772 - val_loss: 1.1248 - val_accuracy: 0.7530\n",
            "Epoch 4/9\n",
            "16/16 [==============================] - 1s 42ms/step - loss: 0.8333 - accuracy: 0.8190 - val_loss: 1.0209 - val_accuracy: 0.7830\n",
            "Epoch 5/9\n",
            "16/16 [==============================] - 1s 42ms/step - loss: 0.6475 - accuracy: 0.8640 - val_loss: 0.9896 - val_accuracy: 0.7900\n",
            "Epoch 6/9\n",
            "16/16 [==============================] - 1s 43ms/step - loss: 0.5334 - accuracy: 0.8920 - val_loss: 0.9204 - val_accuracy: 0.8080\n",
            "Epoch 7/9\n",
            "16/16 [==============================] - 1s 45ms/step - loss: 0.4055 - accuracy: 0.9169 - val_loss: 0.8982 - val_accuracy: 0.8110\n",
            "Epoch 8/9\n",
            "16/16 [==============================] - 1s 54ms/step - loss: 0.3275 - accuracy: 0.9341 - val_loss: 0.9348 - val_accuracy: 0.8030\n",
            "Epoch 9/9\n",
            "16/16 [==============================] - 1s 42ms/step - loss: 0.2622 - accuracy: 0.9431 - val_loss: 0.9082 - val_accuracy: 0.8130\n",
            "71/71 [==============================] - 0s 2ms/step - loss: 0.9962 - accuracy: 0.7925\n"
          ],
          "name": "stdout"
        }
      ]
    },
    {
      "cell_type": "code",
      "metadata": {
        "colab": {
          "base_uri": "https://localhost:8080/"
        },
        "id": "0EQyO_7h1O0d",
        "outputId": "aee1ec43-15aa-4294-8b8e-92f4db0ecd0c"
      },
      "source": [
        "results"
      ],
      "execution_count": null,
      "outputs": [
        {
          "output_type": "execute_result",
          "data": {
            "text/plain": [
              "[0.9961711168289185, 0.7925200462341309]"
            ]
          },
          "metadata": {
            "tags": []
          },
          "execution_count": 26
        }
      ]
    }
  ]
}