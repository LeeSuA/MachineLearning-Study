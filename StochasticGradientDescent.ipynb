{
  "nbformat": 4,
  "nbformat_minor": 0,
  "metadata": {
    "colab": {
      "name": "StochasticGradientDescent.ipynb",
      "provenance": [],
      "collapsed_sections": [],
      "authorship_tag": "ABX9TyMspF5h4Z3QadftMZDRiMJ5",
      "include_colab_link": true
    },
    "kernelspec": {
      "name": "python3",
      "display_name": "Python 3"
    }
  },
  "cells": [
    {
      "cell_type": "markdown",
      "metadata": {
        "id": "view-in-github",
        "colab_type": "text"
      },
      "source": [
        "<a href=\"https://colab.research.google.com/github/LeeSuA/MachineLearning-Study/blob/main/StochasticGradientDescent.ipynb\" target=\"_parent\"><img src=\"https://colab.research.google.com/assets/colab-badge.svg\" alt=\"Open In Colab\"/></a>"
      ]
    },
    {
      "cell_type": "markdown",
      "metadata": {
        "id": "M1lMTQCAbOma"
      },
      "source": [
        "확률적 경사 하강법(SGD : StochasticGradientDescent)\r\n",
        "- 대표적인 점진적 학습 알고리즘\r\n",
        "- 에포크 : 훈련 세트를 한 번 모두 사용하는 과정\r\n",
        "- minibatch SGD : 한 개가 아닌 여러 개의 샘플을 사용해 SGD를 수행\r\n",
        "- batch SGD : 전체 샘플을 사용"
      ]
    },
    {
      "cell_type": "code",
      "metadata": {
        "id": "2VzRRWQoaGqp"
      },
      "source": [
        ""
      ],
      "execution_count": 1,
      "outputs": []
    },
    {
      "cell_type": "code",
      "metadata": {
        "id": "pT8e5XTShPs_"
      },
      "source": [
        "import pandas as pd\r\n",
        "fish = pd.read_csv('https://bit.ly/fish_csv')"
      ],
      "execution_count": 2,
      "outputs": []
    },
    {
      "cell_type": "code",
      "metadata": {
        "id": "XS3Kea1mhYO0"
      },
      "source": [
        "fish_input = fish[['Weight', 'Length', 'Diagonal', 'Height', 'Width']].to_numpy()\r\n",
        "fish_target = fish['Species'].to_numpy()"
      ],
      "execution_count": 3,
      "outputs": []
    },
    {
      "cell_type": "code",
      "metadata": {
        "id": "ui09Oe4iholW"
      },
      "source": [
        "from sklearn.model_selection import train_test_split\r\n",
        "train_input, test_input, train_target, test_target = train_test_split(fish_input, fish_target, random_state=42)"
      ],
      "execution_count": 4,
      "outputs": []
    },
    {
      "cell_type": "code",
      "metadata": {
        "id": "RlwxM1UeiHp9"
      },
      "source": [
        "#표준화 전처리\r\n",
        "from sklearn.preprocessing import StandardScaler\r\n",
        "ss = StandardScaler()\r\n",
        "ss.fit(train_input)\r\n",
        "train_scaled = ss.transform(train_input)\r\n",
        "test_scaled = ss.transform(test_input)"
      ],
      "execution_count": 5,
      "outputs": []
    },
    {
      "cell_type": "code",
      "metadata": {
        "id": "ZKqGZSOcieIE"
      },
      "source": [
        "from sklearn.linear_model import SGDClassifier"
      ],
      "execution_count": 6,
      "outputs": []
    },
    {
      "cell_type": "code",
      "metadata": {
        "colab": {
          "base_uri": "https://localhost:8080/"
        },
        "id": "1xkNa5Y7Dord",
        "outputId": "42329886-8586-4dc7-8754-52df78fac11e"
      },
      "source": [
        "sc = SGDClassifier(loss = 'log', max_iter=10, random_state=42)\r\n",
        "sc.fit(train_scaled, train_target)\r\n",
        "print(sc.score(train_scaled, train_target))\r\n",
        "print(sc.score(test_scaled, test_target))"
      ],
      "execution_count": 7,
      "outputs": [
        {
          "output_type": "stream",
          "text": [
            "0.773109243697479\n",
            "0.775\n"
          ],
          "name": "stdout"
        },
        {
          "output_type": "stream",
          "text": [
            "/usr/local/lib/python3.6/dist-packages/sklearn/linear_model/_stochastic_gradient.py:557: ConvergenceWarning: Maximum number of iteration reached before convergence. Consider increasing max_iter to improve the fit.\n",
            "  ConvergenceWarning)\n"
          ],
          "name": "stderr"
        }
      ]
    },
    {
      "cell_type": "code",
      "metadata": {
        "id": "FXhmaOamEUhi"
      },
      "source": [
        "# partial_fit()은 호출할 때마다 1 에포크씩 이어서 훈련 가능\r\n",
        "sc.partial_fit(train_scaled, train_target)\r\n",
        "print(sc.score(train_scaled, train_target))\r\n",
        "print(sc.score(test_scaled, test_target))"
      ],
      "execution_count": null,
      "outputs": []
    },
    {
      "cell_type": "code",
      "metadata": {
        "id": "zptzNPb9GouW"
      },
      "source": [
        "import numpy as np\r\n",
        "sc = SGDClassifier(loss='log', random_state=42)\r\n",
        "train_score = []\r\n",
        "test_score = []\r\n",
        "classes = np.unique(train_target)"
      ],
      "execution_count": 9,
      "outputs": []
    },
    {
      "cell_type": "code",
      "metadata": {
        "id": "ZxT7caAEG-E1"
      },
      "source": [
        "# 300번의 에포크 동안 훈련 반복\r\n",
        "for _ in range(0, 300):\r\n",
        "  sc.partial_fit(train_scaled, train_target, classes=classes)\r\n",
        "  train_score.append(sc.score(train_scaled, train_target))\r\n",
        "  test_score.append(sc.score(test_scaled, test_target))"
      ],
      "execution_count": 12,
      "outputs": []
    },
    {
      "cell_type": "code",
      "metadata": {
        "colab": {
          "base_uri": "https://localhost:8080/",
          "height": 265
        },
        "id": "cQqBbTApHZqN",
        "outputId": "83c65e6b-59d8-49f7-b331-b0fa8a48b683"
      },
      "source": [
        "import matplotlib.pyplot as plt\r\n",
        "plt.plot(train_score)\r\n",
        "plt.plot(test_score)\r\n",
        "plt.show()\r\n",
        "# 100번째 에포크 이후로 훈련세트와 테스트세트의 간격이 벌어지고있음 "
      ],
      "execution_count": 14,
      "outputs": [
        {
          "output_type": "display_data",
          "data": {
            "image/png": "[encoded data removed]",
            "text/plain": [
              "<Figure size 432x288 with 1 Axes>"
            ]
          },
          "metadata": {
            "tags": [],
            "needs_background": "light"
          }
        }
      ]
    },
    {
      "cell_type": "code",
      "metadata": {
        "colab": {
          "base_uri": "https://localhost:8080/"
        },
        "id": "aaEA1uo-H0Gk",
        "outputId": "03d9b79d-a229-42de-aec3-d89fa5afaa86"
      },
      "source": [
        "# 100번의 에포크동안 훈련\r\n",
        "# loss : 훈련함수 종류. 서포트 벡터 머신, 힌지 등이 있다\r\n",
        "sc = SGDClassifier(loss='log', max_iter=100, tol=None, random_state=42)\r\n",
        "sc.fit(train_scaled, train_target)\r\n",
        "print(sc.score(train_scaled, train_target))\r\n",
        "print(sc.score(test_scaled, test_target))"
      ],
      "execution_count": 15,
      "outputs": [
        {
          "output_type": "stream",
          "text": [
            "0.957983193277311\n",
            "0.925\n"
          ],
          "name": "stdout"
        }
      ]
    }
  ]
}