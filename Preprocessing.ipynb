{
  "nbformat": 4,
  "nbformat_minor": 0,
  "metadata": {
    "colab": {
      "name": "Preprocessing.ipynb",
      "provenance": [],
      "collapsed_sections": [],
      "authorship_tag": "ABX9TyPLXYZ5ksasllid/4tiEo21",
      "include_colab_link": true
    },
    "kernelspec": {
      "name": "python3",
      "display_name": "Python 3"
    }
  },
  "cells": [
    {
      "cell_type": "markdown",
      "metadata": {
        "id": "view-in-github",
        "colab_type": "text"
      },
      "source": [
        "<a href=\"https://colab.research.google.com/github/LeeSuA/MachineLearning-Study/blob/main/Preprocessing.ipynb\" target=\"_parent\"><img src=\"https://colab.research.google.com/assets/colab-badge.svg\" alt=\"Open In Colab\"/></a>"
      ]
    },
    {
      "cell_type": "code",
      "metadata": {
        "id": "7x31dfjcUCNS"
      },
      "source": [
        "import string\r\n",
        "import nltk\r\n",
        "import sklearn\r\n",
        "import re\r\n",
        "\r\n",
        "articles = [\"No deal between Jiangxi Copper, First Quantum for 2021 contracted copper blister, anode supply - sources Chinese copper producer Jiangxi Copper and Canada-based First Quantum have not agreed to a contractual supply of intermediate copper products for 2021, Fastmarkets has learned. Despite discussions extending into mid-January, Jiangxi Copper - a major importer of unrefined copper - and First Quantum - operator of Zambian copper-gold project Kansanshi - were not able to agree to a deal for contracted volumes, two sources familiar with the matter said. For years, First Quantum has sold custom copper anode and blister copper to Jiangxi Copper as feed for its production of copper cathodes, and the annual contract volume is one of the biggest globally for copper intermediates.\",\r\n",
        "            \"Today’s story about Lutheran egg coffee/church basement coffee/Swedish egg coffee got us thinking about all the hundreds of ways to approach a cup of caffeine. Never in a thousand years would it have occurred to me to mash a raw egg into a pot of coffee grounds; indeed, if presented with that information in the office breakroom, I would have responded, “um, is that even safe to drink?” (It is.) And yet, someone somewhere figured out how beautifully egg can temper the bitterness of the beans, to the benefit of us all. Then, of course, there’s East Asian egg coffee, which uses egg yolk as a thickener right inside the mug. And I’ve heard tell that simply placing spent egg shells on top of a filter full of grounds will do a lot to mellow the brew, too. It seems like there will always be more to learn about coffee, a culinary world unto itself. Do you have any tips and tricks when it comes to achieving the perfect cup?\",\r\n",
        "            \"Oakland Town Manager Steve Koontz invites residents to join him for coffee and conversation to learn more about town news, services and programs, including proposed and new development, a future roundabout and the Healthy West Orange Arts and Heritage Center at the Town of Oakland. Residents will have an opportunity to ask questions and share their thoughts and ideas about various topics affecting the Town. The event also offers residents and business owners an opportunity to network with each other virtually.\",\r\n",
        "            \"Aluminium prices on Tuesday softened by 0.25 per cent to Rs 160.95 per kg in futures trade, as speculators cut bets amid subdued demand in spot market. On the Multi Commodity Exchange, aluminium for January delivery eased by 40 paise, or 0.25 per cent, to Rs 160.95 per kg in a business turnover of 1,006 lots. Analysts said offloading of positions by participants owing to slackened demand from consuming industries in the physical market weighed on aluminium prices in futures trade.\",\r\n",
        "            \"Gold prices moved sideways as the dollar consolidated as the dollar moved lower and U.S. yields remained stable. Gold volatility was unchanged, hovering near the 23% range. The increase in yields followed better than expected jobless claims along with strong housing starts.\"]"
      ],
      "execution_count": null,
      "outputs": []
    },
    {
      "cell_type": "code",
      "metadata": {
        "colab": {
          "base_uri": "https://localhost:8080/"
        },
        "id": "rvjsMxpAUQ3Q",
        "outputId": "2c087c41-d349-48ed-be39-7e4a2ee3c526"
      },
      "source": [
        "# 소문자 변환\r\n",
        "\r\n",
        "articles = [article.lower() for article in articles]\r\n",
        "\r\n",
        "print(articles[0])"
      ],
      "execution_count": null,
      "outputs": [
        {
          "output_type": "stream",
          "text": [
            "no deal between jiangxi copper, first quantum for 2021 contracted copper blister, anode supply - sources chinese copper producer jiangxi copper and canada-based first quantum have not agreed to a contractual supply of intermediate copper products for 2021, fastmarkets has learned. despite discussions extending into mid-january, jiangxi copper - a major importer of unrefined copper - and first quantum - operator of zambian copper-gold project kansanshi - were not able to agree to a deal for contracted volumes, two sources familiar with the matter said. for years, first quantum has sold custom copper anode and blister copper to jiangxi copper as feed for its production of copper cathodes, and the annual contract volume is one of the biggest globally for copper intermediates.\n"
          ],
          "name": "stdout"
        }
      ]
    },
    {
      "cell_type": "code",
      "metadata": {
        "colab": {
          "base_uri": "https://localhost:8080/"
        },
        "id": "qKchOg0BVBt_",
        "outputId": "30deacf3-af89-4830-80e9-98832a571684"
      },
      "source": [
        "# 문장부호 제거\r\n",
        "\r\n",
        "table = str.maketrans('', '', string.punctuation)\r\n",
        "articles = [article.translate(table) for article in articles]\r\n",
        "print(articles[0])"
      ],
      "execution_count": null,
      "outputs": [
        {
          "output_type": "stream",
          "text": [
            "no deal between jiangxi copper first quantum for 2021 contracted copper blister anode supply  sources chinese copper producer jiangxi copper and canadabased first quantum have not agreed to a contractual supply of intermediate copper products for 2021 fastmarkets has learned despite discussions extending into midjanuary jiangxi copper  a major importer of unrefined copper  and first quantum  operator of zambian coppergold project kansanshi  were not able to agree to a deal for contracted volumes two sources familiar with the matter said for years first quantum has sold custom copper anode and blister copper to jiangxi copper as feed for its production of copper cathodes and the annual contract volume is one of the biggest globally for copper intermediates\n"
          ],
          "name": "stdout"
        }
      ]
    },
    {
      "cell_type": "code",
      "metadata": {
        "id": "g73eGmvUuxWi"
      },
      "source": [
        "# 모든 숫자를 'num'으로 변환\r\n",
        "articles = [re.sub(r'\\d+', 'num', article) for article in articles]"
      ],
      "execution_count": null,
      "outputs": []
    },
    {
      "cell_type": "code",
      "metadata": {
        "colab": {
          "base_uri": "https://localhost:8080/"
        },
        "id": "EQ7K4OKTfALJ",
        "outputId": "ef015548-0be0-435e-d816-ccbcee4caa43"
      },
      "source": [
        "#불용어 제거\r\n",
        "\r\n",
        "import nltk\r\n",
        "nltk.download('stopwords')\r\n",
        "\r\n",
        "stopwords = set(nltk.corpus.stopwords.words('english') + ['reuter', '\\x03'])\r\n",
        "articles = [[word for word in article.split() if word not in stopwords] for article in articles]\r\n",
        "print(articles[0])"
      ],
      "execution_count": null,
      "outputs": [
        {
          "output_type": "stream",
          "text": [
            "[nltk_data] Downloading package stopwords to /root/nltk_data...\n",
            "[nltk_data]   Package stopwords is already up-to-date!\n",
            "['deal', 'jiangxi', 'copper', 'first', 'quantum', 'num', 'contracted', 'copper', 'blister', 'anode', 'supply', 'sources', 'chinese', 'copper', 'producer', 'jiangxi', 'copper', 'canadabased', 'first', 'quantum', 'agreed', 'contractual', 'supply', 'intermediate', 'copper', 'products', 'num', 'fastmarkets', 'learned', 'despite', 'discussions', 'extending', 'midjanuary', 'jiangxi', 'copper', 'major', 'importer', 'unrefined', 'copper', 'first', 'quantum', 'operator', 'zambian', 'coppergold', 'project', 'kansanshi', 'able', 'agree', 'deal', 'contracted', 'volumes', 'two', 'sources', 'familiar', 'matter', 'said', 'years', 'first', 'quantum', 'sold', 'custom', 'copper', 'anode', 'blister', 'copper', 'jiangxi', 'copper', 'feed', 'production', 'copper', 'cathodes', 'annual', 'contract', 'volume', 'one', 'biggest', 'globally', 'copper', 'intermediates']\n"
          ],
          "name": "stdout"
        }
      ]
    },
    {
      "cell_type": "code",
      "metadata": {
        "colab": {
          "base_uri": "https://localhost:8080/"
        },
        "id": "fIhQV-uKWrp1",
        "outputId": "e83186b8-8cc3-4038-c8bd-a92f48765d03"
      },
      "source": [
        "# Stemming\r\n",
        "stemmer = nltk.stem.PorterStemmer()\r\n",
        "articles = [\" \".join([stemmer.stem(word) for word in article]) for article in articles]\r\n",
        "print(articles[0])"
      ],
      "execution_count": null,
      "outputs": [
        {
          "output_type": "stream",
          "text": [
            "deal jiangxi copper first quantum num contract copper blister anod suppli sourc chines copper produc jiangxi copper canadabas first quantum agre contractu suppli intermedi copper product num fastmarket learn despit discuss extend midjanuari jiangxi copper major import unrefin copper first quantum oper zambian coppergold project kansanshi abl agre deal contract volum two sourc familiar matter said year first quantum sold custom copper anod blister copper jiangxi copper feed product copper cathod annual contract volum one biggest global copper intermedi\n"
          ],
          "name": "stdout"
        }
      ]
    },
    {
      "cell_type": "code",
      "metadata": {
        "colab": {
          "base_uri": "https://localhost:8080/"
        },
        "id": "IxMdczWXqiQx",
        "outputId": "58c84025-2eb1-413c-852e-dd1d569c5b3a"
      },
      "source": [
        "# 최대 단어 개수가 50인 tf_idf 객체 생성\r\n",
        "tf_counter = sklearn.feature_extraction.text.TfidfVectorizer(max_features = 50)\r\n",
        "# Get tf-idf matrix as sparse matrix\r\n",
        "tfidf = tf_counter.fit_transform(articles)\r\n",
        "# 단어장 인덱스에 따른 단어\r\n",
        "tf_counter.get_feature_names()\r\n",
        "\r\n",
        "print(tfidf.toarray())\r\n",
        "print(tf_counter.vocabulary_)"
      ],
      "execution_count": null,
      "outputs": [
        {
          "output_type": "stream",
          "text": [
            "[[0.12895327 0.         0.12895327 0.12895327 0.         0.\n",
            "  0.         0.19342991 0.77371964 0.         0.12895327 0.\n",
            "  0.         0.         0.25790655 0.         0.         0.\n",
            "  0.12895327 0.25790655 0.         0.04318075 0.         0.\n",
            "  0.         0.08636151 0.         0.         0.         0.\n",
            "  0.12895327 0.25790655 0.         0.         0.         0.\n",
            "  0.         0.         0.         0.         0.05201934 0.12895327\n",
            "  0.12895327 0.         0.         0.         0.12895327 0.\n",
            "  0.05201934 0.        ]\n",
            " [0.         0.         0.         0.         0.         0.\n",
            "  0.36361831 0.         0.         0.22534776 0.         0.\n",
            "  0.         0.78871716 0.         0.         0.         0.22534776\n",
            "  0.         0.         0.         0.07545901 0.09090458 0.\n",
            "  0.         0.         0.         0.         0.         0.\n",
            "  0.         0.         0.         0.         0.         0.11267388\n",
            "  0.11267388 0.         0.         0.11267388 0.         0.\n",
            "  0.         0.         0.         0.18180915 0.         0.22534776\n",
            "  0.09090458 0.        ]\n",
            " [0.         0.         0.         0.         0.13192265 0.\n",
            "  0.13192265 0.         0.         0.         0.         0.\n",
            "  0.         0.         0.         0.13192265 0.         0.\n",
            "  0.         0.         0.         0.10950772 0.         0.\n",
            "  0.         0.         0.32702945 0.32702945 0.         0.\n",
            "  0.         0.         0.16351473 0.         0.49054418 0.\n",
            "  0.         0.16351473 0.         0.         0.         0.\n",
            "  0.         0.65405891 0.         0.         0.         0.\n",
            "  0.         0.        ]\n",
            " [0.         0.35280309 0.         0.         0.09487977 0.23520206\n",
            "  0.         0.         0.         0.         0.         0.23520206\n",
            "  0.         0.         0.         0.18975954 0.         0.\n",
            "  0.         0.         0.23520206 0.         0.09487977 0.23520206\n",
            "  0.         0.47255268 0.         0.         0.47040411 0.18975954\n",
            "  0.         0.         0.         0.         0.         0.\n",
            "  0.         0.         0.23520206 0.         0.09487977 0.\n",
            "  0.         0.         0.23520206 0.         0.         0.\n",
            "  0.         0.        ]\n",
            " [0.         0.         0.         0.         0.         0.\n",
            "  0.         0.         0.         0.         0.         0.\n",
            "  0.46187596 0.         0.         0.         0.46187596 0.\n",
            "  0.         0.         0.         0.         0.         0.\n",
            "  0.46187596 0.15466186 0.         0.         0.         0.18631931\n",
            "  0.         0.         0.         0.23093798 0.         0.\n",
            "  0.         0.         0.         0.         0.         0.\n",
            "  0.         0.         0.         0.18631931 0.         0.\n",
            "  0.         0.46187596]]\n",
            "{'deal': 10, 'jiangxi': 19, 'copper': 8, 'first': 14, 'quantum': 31, 'num': 25, 'contract': 7, 'blister': 3, 'anod': 2, 'suppli': 42, 'sourc': 41, 'agre': 0, 'intermedi': 18, 'product': 30, 'learn': 21, 'volum': 46, 'said': 40, 'year': 48, 'egg': 13, 'coffe': 6, 'us': 45, 'cup': 9, 'would': 47, 'ground': 17, 'respond': 35, 'safe': 39, 'right': 36, 'lot': 22, 'oakland': 26, 'town': 43, 'resid': 34, 'futur': 15, 'roundabout': 37, 'opportun': 27, 'question': 32, 'busi': 4, 'aluminium': 1, 'price': 29, 'per': 28, 'cent': 5, 'rs': 38, 'kg': 20, 'trade': 44, 'demand': 11, 'market': 23, 'gold': 16, 'move': 24, 'dollar': 12, 'yield': 49, 'remain': 33}\n"
          ],
          "name": "stdout"
        }
      ]
    }
  ]
}