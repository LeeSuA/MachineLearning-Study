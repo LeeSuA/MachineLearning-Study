{
  "nbformat": 4,
  "nbformat_minor": 0,
  "metadata": {
    "colab": {
      "name": "Article_Predict.ipynb",
      "provenance": [],
      "collapsed_sections": [],
      "authorship_tag": "ABX9TyPWXH2Zh3UM39SvgHXqeiZh",
      "include_colab_link": true
    },
    "kernelspec": {
      "name": "python3",
      "display_name": "Python 3"
    }
  },
  "cells": [
    {
      "cell_type": "markdown",
      "metadata": {
        "id": "view-in-github",
        "colab_type": "text"
      },
      "source": [
        "<a href=\"https://colab.research.google.com/github/LeeSuA/MachineLearning-Study/blob/main/Article_Predict.ipynb\" target=\"_parent\"><img src=\"https://colab.research.google.com/assets/colab-badge.svg\" alt=\"Open In Colab\"/></a>"
      ]
    },
    {
      "cell_type": "markdown",
      "metadata": {
        "id": "L0x7X9Rj2N23"
      },
      "source": [
        "- 케라스에서 제공하는 로이터 데이터셋(뉴스)을 46개의 토픽으로 분류하는 예제\r\n",
        "- 단일 레이블 다중 분류 예제\r\n",
        "- 훈련샘플 : 8982개 , 테스트샘플 : 2246개\r\n",
        "- 로이터 데이터셋은 토큰화, 정수 인코딩이 돼있는 상태\r\n",
        "- 테스트 데이터를 직접 예측"
      ]
    },
    {
      "cell_type": "code",
      "metadata": {
        "colab": {
          "base_uri": "https://localhost:8080/"
        },
        "id": "KYPf3otb0Wyt",
        "outputId": "19b5a1e6-3e84-44a6-f0ac-b44b378aa6d8"
      },
      "source": [
        "from keras.datasets import reuters\r\n",
        "\r\n",
        "# num_words는 데이터에서 가장 자주 등장하는 단어 1만 개로 제한\r\n",
        "(train_data, train_labels), (test_data, test_labels) = reuters.load_data(\r\n",
        "     num_words=10000)"
      ],
      "execution_count": 4,
      "outputs": [
        {
          "output_type": "stream",
          "text": [
            "/usr/local/lib/python3.6/dist-packages/tensorflow/python/keras/datasets/reuters.py:148: VisibleDeprecationWarning: Creating an ndarray from ragged nested sequences (which is a list-or-tuple of lists-or-tuples-or ndarrays with different lengths or shapes) is deprecated. If you meant to do this, you must specify 'dtype=object' when creating the ndarray\n",
            "  x_train, y_train = np.array(xs[:idx]), np.array(labels[:idx])\n",
            "/usr/local/lib/python3.6/dist-packages/tensorflow/python/keras/datasets/reuters.py:149: VisibleDeprecationWarning: Creating an ndarray from ragged nested sequences (which is a list-or-tuple of lists-or-tuples-or ndarrays with different lengths or shapes) is deprecated. If you meant to do this, you must specify 'dtype=object' when creating the ndarray\n",
            "  x_test, y_test = np.array(xs[idx:]), np.array(labels[idx:])\n"
          ],
          "name": "stderr"
        }
      ]
    },
    {
      "cell_type": "code",
      "metadata": {
        "colab": {
          "base_uri": "https://localhost:8080/"
        },
        "id": "_5CYlvHE0aZB",
        "outputId": "01991dda-3ab1-4c62-ac61-4637cdafb632"
      },
      "source": [
        "print(len(train_data))\r\n",
        "print(len(test_data))"
      ],
      "execution_count": 5,
      "outputs": [
        {
          "output_type": "stream",
          "text": [
            "8982\n",
            "2246\n"
          ],
          "name": "stdout"
        }
      ]
    },
    {
      "cell_type": "code",
      "metadata": {
        "id": "IAfLBdRu0qFe"
      },
      "source": [
        "# 데이터 준비\r\n",
        "# 데이터를 벡터로 변환\r\n",
        "import numpy as np\r\n",
        "\r\n",
        "def vectorize_sequences(sequences, dimension=10000):\r\n",
        "    results = np.zeros((len(sequences), dimension))\r\n",
        "    for i, sequence in enumerate(sequences):\r\n",
        "        results[i, sequence] = 1.\r\n",
        "    return results\r\n",
        "\r\n",
        "x_train = vectorize_sequences(train_data) # 훈련 데이터 벡터 변환\r\n",
        "x_test = vectorize_sequences(test_data) # 테스트 데이터 벡터 변환"
      ],
      "execution_count": 6,
      "outputs": []
    },
    {
      "cell_type": "code",
      "metadata": {
        "id": "FUvNyCJZ0-N9"
      },
      "source": [
        "# one-hot encoding\r\n",
        "def to_one_hot(labels, dimension=46):\r\n",
        "    results = np.zeros((len(labels), dimension))\r\n",
        "    for i, label in enumerate(labels):\r\n",
        "        results[i, label] = 1.\r\n",
        "    return results\r\n",
        "\r\n",
        "one_hot_train_labels = to_one_hot(train_labels) # 훈련 레이블 벡터 변환\r\n",
        "one_hot_test_labels = to_one_hot(test_labels) # 테스트 레이블 벡터 변환"
      ],
      "execution_count": 7,
      "outputs": []
    },
    {
      "cell_type": "code",
      "metadata": {
        "id": "rKKBXTUh1ANm"
      },
      "source": [
        "from keras.utils.np_utils import to_categorical\r\n",
        "\r\n",
        "one_hot_train_labels = to_categorical(train_labels)\r\n",
        "one_hot_test_labels = to_categorical(test_labels)"
      ],
      "execution_count": 8,
      "outputs": []
    },
    {
      "cell_type": "code",
      "metadata": {
        "id": "fPSVpsYp1DL1"
      },
      "source": [
        "from keras import models\r\n",
        "from keras import layers\r\n",
        "\r\n",
        "model = models.Sequential()\r\n",
        "model.add(layers.Dense(64, activation='relu', input_shape=(10000,)))\r\n",
        "model.add(layers.Dense(64, activation='relu'))\r\n",
        "model.add(layers.Dense(46, activation='softmax'))"
      ],
      "execution_count": 9,
      "outputs": []
    },
    {
      "cell_type": "code",
      "metadata": {
        "id": "U-1MoGfc1Efl"
      },
      "source": [
        "model.compile(optimizer='rmsprop',\r\n",
        "              loss='categorical_crossentropy',\r\n",
        "              metrics=['accuracy'])"
      ],
      "execution_count": 10,
      "outputs": []
    },
    {
      "cell_type": "code",
      "metadata": {
        "id": "YdBGFkD-1FsV"
      },
      "source": [
        "x_val = x_train[:1000]\r\n",
        "partial_x_train = x_train[1000:]\r\n",
        "\r\n",
        "y_val = one_hot_train_labels[:1000]\r\n",
        "partial_y_train = one_hot_train_labels[1000:]"
      ],
      "execution_count": 11,
      "outputs": []
    },
    {
      "cell_type": "code",
      "metadata": {
        "id": "zeKs05MG1NrW",
        "colab": {
          "base_uri": "https://localhost:8080/"
        },
        "outputId": "c4318b1e-8d00-4bd7-dfc5-387416f95c9a"
      },
      "source": [
        "# 9번째 에포크 이후 과대적합이 확인되었으므로 모델을 9번의 에포크로 새로 훈련시킴\r\n",
        "model = models.Sequential()\r\n",
        "model.add(layers.Dense(64, activation='relu', input_shape=(10000,)))\r\n",
        "model.add(layers.Dense(64, activation='relu'))\r\n",
        "model.add(layers.Dense(46, activation='softmax'))\r\n",
        "\r\n",
        "model.compile(optimizer='rmsprop',\r\n",
        "              loss='categorical_crossentropy',\r\n",
        "              metrics=['accuracy'])\r\n",
        "model.fit(partial_x_train,\r\n",
        "          partial_y_train,\r\n",
        "          epochs=9,\r\n",
        "          batch_size=512,\r\n",
        "          validation_data=(x_val, y_val))\r\n",
        "results = model.evaluate(x_test, one_hot_test_labels)"
      ],
      "execution_count": 12,
      "outputs": [
        {
          "output_type": "stream",
          "text": [
            "Epoch 1/9\n",
            "16/16 [==============================] - 2s 92ms/step - loss: 3.1292 - accuracy: 0.4031 - val_loss: 1.7898 - val_accuracy: 0.6290\n",
            "Epoch 2/9\n",
            "16/16 [==============================] - 1s 56ms/step - loss: 1.5500 - accuracy: 0.6769 - val_loss: 1.3615 - val_accuracy: 0.6970\n",
            "Epoch 3/9\n",
            "16/16 [==============================] - 1s 54ms/step - loss: 1.1050 - accuracy: 0.7579 - val_loss: 1.1458 - val_accuracy: 0.7530\n",
            "Epoch 4/9\n",
            "16/16 [==============================] - 1s 53ms/step - loss: 0.8768 - accuracy: 0.8187 - val_loss: 1.0509 - val_accuracy: 0.7720\n",
            "Epoch 5/9\n",
            "16/16 [==============================] - 1s 57ms/step - loss: 0.7044 - accuracy: 0.8563 - val_loss: 0.9806 - val_accuracy: 0.7960\n",
            "Epoch 6/9\n",
            "16/16 [==============================] - 1s 57ms/step - loss: 0.5611 - accuracy: 0.8851 - val_loss: 0.9483 - val_accuracy: 0.7920\n",
            "Epoch 7/9\n",
            "16/16 [==============================] - 1s 53ms/step - loss: 0.4445 - accuracy: 0.9079 - val_loss: 0.9191 - val_accuracy: 0.8030\n",
            "Epoch 8/9\n",
            "16/16 [==============================] - 1s 56ms/step - loss: 0.3753 - accuracy: 0.9247 - val_loss: 0.9035 - val_accuracy: 0.8220\n",
            "Epoch 9/9\n",
            "16/16 [==============================] - 1s 55ms/step - loss: 0.2958 - accuracy: 0.9399 - val_loss: 0.9042 - val_accuracy: 0.8150\n",
            "71/71 [==============================] - 0s 3ms/step - loss: 0.9763 - accuracy: 0.7818\n"
          ],
          "name": "stdout"
        }
      ]
    },
    {
      "cell_type": "code",
      "metadata": {
        "id": "0EQyO_7h1O0d",
        "colab": {
          "base_uri": "https://localhost:8080/"
        },
        "outputId": "2c7bf0b8-f1e8-4230-b0c6-59e5a17c4b76"
      },
      "source": [
        "results"
      ],
      "execution_count": 13,
      "outputs": [
        {
          "output_type": "execute_result",
          "data": {
            "text/plain": [
              "[0.9762753248214722, 0.7818343639373779]"
            ]
          },
          "metadata": {
            "tags": []
          },
          "execution_count": 13
        }
      ]
    },
    {
      "cell_type": "code",
      "metadata": {
        "colab": {
          "base_uri": "https://localhost:8080/"
        },
        "id": "kga9DQvZhPNj",
        "outputId": "5e2522db-f177-4c07-b0f7-c81f74075f61"
      },
      "source": [
        "word_index = reuters.get_word_index()\r\n",
        "reverse_word_index = dict([(value, key) for (key, value) in word_index.items()])\r\n",
        "for m in range(0, 10):\r\n",
        "  decoded_newswire = ' '.join([reverse_word_index.get(i - 3, '?') for i in test_data[m]])\r\n",
        "  print(m,\":\",decoded_newswire)"
      ],
      "execution_count": 14,
      "outputs": [
        {
          "output_type": "stream",
          "text": [
            "Downloading data from https://storage.googleapis.com/tensorflow/tf-keras-datasets/reuters_word_index.json\n",
            "557056/550378 [==============================] - 0s 0us/step\n",
            "0 : ? the great atlantic and pacific tea co said its three year 345 mln dlr capital program will be be substantially increased to ? growth and expansion plans for ? inc and ? inc over the next two years a and p said the acquisition of ? in august 1986 and ? in december helped us achieve better than expected results in the fourth quarter ended february 28 its net income from continuing operations jumped 52 6 pct to 20 7 mln dlrs or 55 cts a share in the latest quarter as sales increased 48 3 pct to 1 58 billion dlrs a and p gave no details on the expanded capital program but it did say it completed the first year of the program during 1986 a and p is 52 4 pct owned by lt ? ? of west germany reuter 3\n",
            "1 : ? philippine sugar production in the 1987 88 crop year ending august has been set at 1 6 mln tonnes up from a provisional 1 3 mln tonnes this year sugar regulatory administration ? chairman ? yulo said yulo told reuters a survey during the current milling season which ends next month showed the 1986 87 estimate would almost certainly be met he said at least 1 2 mln tonnes of the 1987 88 crop would be earmarked for domestic consumption yulo said about 130 000 tonnes would be set aside for the u s sugar quota 150 000 tonnes for strategic reserves and 50 000 tonnes would be sold on the world market he said if the government approved a long standing ? recommendation to manufacture ethanol the project would take up another 150 000 tonnes slightly raising the target the government for its own reasons has been delaying approval of the project but we expect it to come through by july yulo said ethanol could make up five pct of gasoline cutting the oil import bill by about 300 mln pesos yulo said three major philippine ? were ready to start manufacturing ethanol if the project was approved the ethanol project would result in employment for about 100 000 people sharply reducing those thrown out of work by depressed world sugar prices and a ? domestic industry production quotas set for the first time in 1987 88 had been submitted to president corazon aquino i think the president would rather wait ? the new congress ? after the may elections he said but there is really no need for such quotas we are right now producing just slightly over our own consumption level the producers have never enjoyed such high prices yulo said adding sugar was currently selling locally for 320 pesos per ? up from 190 pesos last august yulo said prices were driven up because of speculation following the ? bid to control production we are no longer concerned so much with the world market he said adding producers in the ? region had learned from their ? and diversified into corn and ? farming and ? production he said diversification into products other than ethanol was also possible within the sugar industry the ? long ago ? their ? yulo said they have 300 sugar mills compared with our 41 but they ? many of them and diversified production we want to call this a ? ? instead of the sugar industry he said sugarcane could be fed to pigs and livestock used for ? ? or used in room ? when you cut sugarcane you don't even have to produce sugar he said yulo said the philippines was lobbying for a renewal of the international sugar agreement which expired in 1984 as a major sugar producer we are urging them to write a new agreement which would revive world prices yulo said if there is no agreement world prices will always be depressed particularly because the european community is ? its producers and dumping sugar on the markets he said current world prices holding steady at about 7 60 cents per pound were ? for the philippines where production costs ranged from 12 to 14 cents a pound if the price holds steady for a while at 7 60 cents i expect the level to rise to about 11 cents a pound by the end of this year he said yulo said economists forecast a bullish sugar market by 1990 with world consumption ? production he said sugar markets were holding up despite ? from artificial sweeteners and high fructose corn syrup but we are not happy with the reagan administration he said since ? we have been regular suppliers of sugar to the u s in 1982 when they restored the quota system they cut ? in half without any justification manila was ? watching washington's moves to cut domestic support prices to 12 cents a pound from 18 cents the u s agriculture department last december slashed its 12 month 1987 sugar import quota from the philippines to 143 780 short tons from 231 660 short tons in 1986 yulo said despite next year's increased production target some philippine mills were expected to shut down at least four of the 41 mills were not working during the 1986 87 season he said we expect two or three more to follow suit during the next season reuter 3\n",
            "2 : ? the agriculture department's widening of louisiana gulf differentials will affect county posted prices for number two yellow corn in ten states a usda official said all counties in iowa will be affected as will counties which use the gulf to price corn in illinois indiana tennessee kentucky missouri mississippi arkansas alabama and louisiana said ? ? deputy director of commodity operations division for the usda usda last night notified the grain industry that effective immediately all gulf differentials used to price interior corn would be widened on a sliding scale basis of four to eight cts depending on what the differential is usda's action was taken to lower excessively high posted county prices for corn caused by high gulf prices we've been following this louisiana gulf situation for a month and we don't think it's going to get back in line in any nearby time ? said ? said usda will probably narrow back the gulf differentials when and if gulf prices ? if we're off the mark now because we're too high wouldn't we be as much off the mark if we're too low he said while forecasting more adjustments if gulf prices fall ? said no other changes in usda's price system are being planned right now we don't tinker we don't make changes ? and we don't make changes often he said reuter 3\n",
            "3 : ? ? ? oil and gas partnership said it completed the sale of interests in two major oil and gas fields to lt energy assets international corp for 21 mln dlrs the company said it sold about one half of its 50 pct interest in the oak hill and north ? fields its two largest producing properties it said it used about 20 mln dlrs of the proceeds to ? principal on its senior secured notes semi annual principal payments on the remaining 40 mln dlrs of notes have been satisfied until december 1988 as a result it said the company said the note agreements were amended to reflect an easing of some financial covenants and an increase of interest to 13 5 pct from 13 0 pct until december 1990 it said the ? exercise price for 1 125 000 warrants was also reduced to 50 cts from 1 50 dlrs the company said energy assets agreed to share the costs of increasing production at the oak hill field reuter 3\n",
            "4 : ? strong south ? winds were keeping many vessels trapped in the ice off the finnish and swedish coasts in one of the worst icy periods in the baltic for many years the finnish board of navigation said in finland and sweden up to 50 vessels were reported to be stuck in the ice and even the largest of the ? ? were having difficulties in breaking through to the ? ships ? officials said however icy conditions in the southern baltic at the soviet oil ports of ? and ? had eased they said weather officials in neighbouring sweden said the icy conditions in the baltic were the worst for 30 years with ships fighting a losing battle to keep moving in the coastal stretches of the gulf of ? which ? finland and sweden the ice is up to one ? thick with ? and ? packing it into almost ? walls three metres high swedish ? officials said weather forecasts say winds may ease during the weekend but a further drop in temperature could bring shipping to a standstill the officials said reuter 3\n",
            "5 : ? shr 12 cts vs 15 cts net 282 000 vs 360 000 revs 5 261 000 vs 5 348 000 avg shrs 2 336 000 vs 2 335 000 year shr 91 cts vs 1 04 dlrs net 2 149 000 vs 2 075 000 revs 28 2 mln vs 28 3 mln avg shrs 2 356 000 vs 2 001 000 note 1986 quarter net includes 72 000 dlr charge from ? of investment tax credit reuter 3\n",
            "6 : ? combustion engineering inc said it expects first quarter earnings to be 20 to 25 pct below the year ago 13 6 mln dlrs mainly due to financing costs resulting from the january 1987 acquisition of ? corp the company said it has filed for an offering of four mln common shares and 150 mln dlrs of subordinated debentures due ? with proceeds to be used to refinance the short term bank debt incurred for the ? acquisition to finance other costs of the transaction and for general corporate purposes combustion said 3 500 000 shares will be sold in the u s and the remainder overseas combustion paid about 218 mln dlrs for ? a maker of computer based measurement and control systems used in pulp and paper mills the company said it expects to release first quarter results in the third week in april combustion said it expects further restructuring of core businesses particularly ? ? this year through staff reductions ? and the consolidation of facilities combustion said the restructuring at ? ? is expected to substantially reduce but not eliminate this year losses in the engineering and construction segment but it said improvement at ? ? is expected to be approximately offset by a number of factors including a somewhat lower level of earnings in the power generation segment than in 1986 financing costs of the ? acquisition costs associated with ? ? technology and operations and delays in waste to energy projects reuter 3\n",
            "7 : ? shr 23 cts vs 28 cts net 8 877 000 vs 9 530 000 revs 342 mln vs 278 9 mln avg shrs 39 4 mln vs 34 mln year shr 1 91 dlrs vs 1 62 dlrs net 70 5 mln vs 50 5 mln revs 1 3 billion vs 990 5 mln avg shrs 37 mln vs 31 3 mln note on dec one 1986 company acquired holt ? and ? and w b saunders and the ? press and their foreign subsidiaries by including these companies for the single month of december 1986 4th qtr earnings were raised by seven cts per shr and for the year by eight cts per shr reuter 3\n",
            "8 : ? oper shr profit 1 66 dlrs vs loss eight cts oper net profit 12 0 mln vs loss 572 000 revs 27 4 mln vs 4 311 000 year oper shr profit 1 36 dlrs vs loss 43 cts oper net profit 9 817 000 vs loss 2 433 000 revs 35 0 mln vs 13 8 mln avg shrs 7 224 000 vs 6 731 000 note 1985 net includes tax credits of 492 000 dlrs in quarter and 2 433 000 dlrs in year 1985 net both periods excludes 168 000 dlr loss from discontinued operations 1986 net both periods includes pretax gain 21 8 mln dlrs from sale of remaining interest in ? hills n m development reuter 3\n",
            "9 : ? bankers trust new york corp said it has placed its approximately 540 mln dlrs of medium and long term loans to brazil on non accrual status and that first quarter net income will be reduced by about seven mln dlrs as a result brazil suspended interest payments on its 68 billion dlrs of medium and long term debt on february 22 u s banking regulations do not require banks to stop accruing interest on loans until payments are 90 days overdue but bankers trust said it acted now because of the high potential of a continued suspension that would result in reaching the 90 day limit in the second quarter of 1987 assuming no cash payments at current interest rates are received for the rest of 1987 bankers trust estimated that full year net income would be reduced by about 30 mln dlrs bankers trust said it assumes that debt negotiations between brazil and its commercial bank lenders will lead to the resumption of interest payments the negotiations resume in new york on friday when central bank governor francisco gros is expected to ask banks for a 90 day ? of some 9 5 billion dlrs of term debt that ? on april 15 reuter 3\n"
          ],
          "name": "stdout"
        }
      ]
    },
    {
      "cell_type": "code",
      "metadata": {
        "id": "oH-aT6XefvLW"
      },
      "source": [
        "predictions = model.predict(x_test)"
      ],
      "execution_count": 15,
      "outputs": []
    },
    {
      "cell_type": "code",
      "metadata": {
        "colab": {
          "base_uri": "https://localhost:8080/"
        },
        "id": "wSwZ9CjrgKnM",
        "outputId": "0c06dd24-6f3e-4f08-ec08-b1beee523181"
      },
      "source": [
        "for i in range(0,30):\r\n",
        "  print(np.argmax(predictions[i]))"
      ],
      "execution_count": 19,
      "outputs": [
        {
          "output_type": "stream",
          "text": [
            "3\n",
            "10\n",
            "1\n",
            "4\n",
            "13\n",
            "3\n",
            "3\n",
            "3\n",
            "3\n",
            "3\n",
            "1\n",
            "4\n",
            "1\n",
            "3\n",
            "1\n",
            "11\n",
            "4\n",
            "3\n",
            "19\n",
            "3\n",
            "8\n",
            "3\n",
            "3\n",
            "3\n",
            "9\n",
            "3\n",
            "4\n",
            "6\n",
            "10\n",
            "3\n"
          ],
          "name": "stdout"
        }
      ]
    },
    {
      "cell_type": "code",
      "metadata": {
        "colab": {
          "base_uri": "https://localhost:8080/"
        },
        "id": "zxcrDfadiRJi",
        "outputId": "900fb686-eb83-4955-85f9-2d28fbc2d0c2"
      },
      "source": [
        "print(test_labels[0:30])"
      ],
      "execution_count": 18,
      "outputs": [
        {
          "output_type": "stream",
          "text": [
            "[ 3 10  1  4  4  3  3  3  3  3  5  4  1  3  1 11 23  3 19  3  8  3  3  3\n",
            "  9  3  4  6 10  3]\n"
          ],
          "name": "stdout"
        }
      ]
    }
  ]
}