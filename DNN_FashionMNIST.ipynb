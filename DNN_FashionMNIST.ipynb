{
  "nbformat": 4,
  "nbformat_minor": 0,
  "metadata": {
    "colab": {
      "name": "DNN_FashionMNIST.ipynb",
      "provenance": [],
      "collapsed_sections": [],
      "authorship_tag": "ABX9TyPthIeKxXebExaiEvLZyyxw",
      "include_colab_link": true
    },
    "kernelspec": {
      "name": "python3",
      "display_name": "Python 3"
    }
  },
  "cells": [
    {
      "cell_type": "markdown",
      "metadata": {
        "id": "view-in-github",
        "colab_type": "text"
      },
      "source": [
        "<a href=\"https://colab.research.google.com/github/LeeSuA/MachineLearning-Study/blob/main/DNN_FashionMNIST.ipynb\" target=\"_parent\"><img src=\"https://colab.research.google.com/assets/colab-badge.svg\" alt=\"Open In Colab\"/></a>"
      ]
    },
    {
      "cell_type": "markdown",
      "metadata": {
        "id": "gbBqzxGlbuhA"
      },
      "source": [
        "심층 신경망(DNN)\r\n",
        "- 패션 MNIST 데이터셋을 이용한 DNN 구성\r\n",
        "- DNN을 여러 개의 층으로 구성\r\n",
        "- relu 함수\r\n",
        "- 옵티마이저 : 케라스가 제공하는 다양한 경사 하강법 알고리즘"
      ]
    },
    {
      "cell_type": "code",
      "metadata": {
        "id": "5GWWZ_lbSMeW"
      },
      "source": [
        "from tensorflow import keras\r\n",
        "\r\n",
        "(train_input, train_target), (test_input, test_target) = keras.datasets.fashion_mnist.load_data()"
      ],
      "execution_count": 20,
      "outputs": []
    },
    {
      "cell_type": "code",
      "metadata": {
        "id": "NUwBuCIpS6sY"
      },
      "source": [
        "from sklearn.model_selection import train_test_split\r\n",
        "\r\n",
        "train_scaled = train_input / 255.0\r\n",
        "train_scaled = train_scaled.reshape(-1, 28*28)\r\n",
        "\r\n",
        "train_scaled, val_scaled, train_target, val_target = train_test_split(\r\n",
        "    train_scaled, train_target, test_size=0.2, random_state=42)"
      ],
      "execution_count": 21,
      "outputs": []
    },
    {
      "cell_type": "code",
      "metadata": {
        "colab": {
          "base_uri": "https://localhost:8080/"
        },
        "id": "49l9XC30TpUp",
        "outputId": "9e57e0a0-8efc-42ca-ba48-b53a95154c2c"
      },
      "source": [
        "# 심층 신경망 만들기\r\n",
        "dense1 = keras.layers.Dense(100, activation='sigmoid', input_shape=(784,))\r\n",
        "dense2 = keras.layers.Dense(10, activation='softmax')\r\n",
        "\r\n",
        "model = keras.Sequential([dense1, dense2])\r\n",
        "model.summary()"
      ],
      "execution_count": 22,
      "outputs": [
        {
          "output_type": "stream",
          "text": [
            "Model: \"sequential_6\"\n",
            "_________________________________________________________________\n",
            "Layer (type)                 Output Shape              Param #   \n",
            "=================================================================\n",
            "dense_12 (Dense)             (None, 100)               78500     \n",
            "_________________________________________________________________\n",
            "dense_13 (Dense)             (None, 10)                1010      \n",
            "=================================================================\n",
            "Total params: 79,510\n",
            "Trainable params: 79,510\n",
            "Non-trainable params: 0\n",
            "_________________________________________________________________\n"
          ],
          "name": "stdout"
        }
      ]
    },
    {
      "cell_type": "code",
      "metadata": {
        "colab": {
          "base_uri": "https://localhost:8080/"
        },
        "id": "ZvKaaht9UKvs",
        "outputId": "f1f7d925-5b88-4197-854d-cea9bf41fc2a"
      },
      "source": [
        "# 층을 추가하는 다른 방법\r\n",
        "model = keras.Sequential([keras.layers.Dense(100, activation='sigmoid', input_shape=(784,), name='hidden'), keras.layers.Dense(10, activation='softmax', name='output')], name='패션 MNIST 모델')\r\n",
        "model.summary()"
      ],
      "execution_count": 23,
      "outputs": [
        {
          "output_type": "stream",
          "text": [
            "Model: \"패션 MNIST 모델\"\n",
            "_________________________________________________________________\n",
            "Layer (type)                 Output Shape              Param #   \n",
            "=================================================================\n",
            "hidden (Dense)               (None, 100)               78500     \n",
            "_________________________________________________________________\n",
            "output (Dense)               (None, 10)                1010      \n",
            "=================================================================\n",
            "Total params: 79,510\n",
            "Trainable params: 79,510\n",
            "Non-trainable params: 0\n",
            "_________________________________________________________________\n"
          ],
          "name": "stdout"
        }
      ]
    },
    {
      "cell_type": "code",
      "metadata": {
        "colab": {
          "base_uri": "https://localhost:8080/"
        },
        "id": "x_DxA6_EUw7D",
        "outputId": "d32aeecd-5a11-4223-b700-15e655b6d0f9"
      },
      "source": [
        "# 방법 2\r\n",
        "model = keras.Sequential()\r\n",
        "model.add(keras.layers.Dense(100, activation='sigmoid', input_shape=(784,)))\r\n",
        "model.add(keras.layers.Dense(10, activation='softmax'))\r\n",
        "\r\n",
        "model.summary()"
      ],
      "execution_count": 24,
      "outputs": [
        {
          "output_type": "stream",
          "text": [
            "Model: \"sequential_7\"\n",
            "_________________________________________________________________\n",
            "Layer (type)                 Output Shape              Param #   \n",
            "=================================================================\n",
            "dense_14 (Dense)             (None, 100)               78500     \n",
            "_________________________________________________________________\n",
            "dense_15 (Dense)             (None, 10)                1010      \n",
            "=================================================================\n",
            "Total params: 79,510\n",
            "Trainable params: 79,510\n",
            "Non-trainable params: 0\n",
            "_________________________________________________________________\n"
          ],
          "name": "stdout"
        }
      ]
    },
    {
      "cell_type": "code",
      "metadata": {
        "colab": {
          "base_uri": "https://localhost:8080/"
        },
        "id": "u7wdG_x4VUCb",
        "outputId": "d6d7a2e2-93de-4989-9bdd-d640edaa792f"
      },
      "source": [
        "model.compile(loss='sparse_categorical_crossentropy', metrics='accuracy')\r\n",
        "model.fit(train_scaled, train_target, epochs=5)"
      ],
      "execution_count": 25,
      "outputs": [
        {
          "output_type": "stream",
          "text": [
            "Epoch 1/5\n",
            "1500/1500 [==============================] - 4s 2ms/step - loss: 0.7679 - accuracy: 0.7520\n",
            "Epoch 2/5\n",
            "1500/1500 [==============================] - 3s 2ms/step - loss: 0.4177 - accuracy: 0.8505\n",
            "Epoch 3/5\n",
            "1500/1500 [==============================] - 3s 2ms/step - loss: 0.3673 - accuracy: 0.8665\n",
            "Epoch 4/5\n",
            "1500/1500 [==============================] - 3s 2ms/step - loss: 0.3499 - accuracy: 0.8749\n",
            "Epoch 5/5\n",
            "1500/1500 [==============================] - 3s 2ms/step - loss: 0.3328 - accuracy: 0.8818\n"
          ],
          "name": "stdout"
        },
        {
          "output_type": "execute_result",
          "data": {
            "text/plain": [
              "<tensorflow.python.keras.callbacks.History at 0x7ff57d7b95f8>"
            ]
          },
          "metadata": {
            "tags": []
          },
          "execution_count": 25
        }
      ]
    },
    {
      "cell_type": "code",
      "metadata": {
        "colab": {
          "base_uri": "https://localhost:8080/"
        },
        "id": "6-DsA0PiZm9K",
        "outputId": "dcc5d9a2-883c-4585-96d1-b7b39adcbc30"
      },
      "source": [
        "# 렐루 함수 사용\r\n",
        "\r\n",
        "model = keras.Sequential()\r\n",
        "model.add(keras.layers.Flatten(input_shape=(28, 28)))\r\n",
        "model.add(keras.layers.Dense(100, activation='relu'))\r\n",
        "model.add(keras.layers.Dense(10, activation='softmax'))\r\n",
        "\r\n",
        "model.summary()\r\n",
        "\r\n",
        "(train_input, train_target), (test_input, test_target) = keras.datasets.fashion_mnist.load_data()\r\n",
        "\r\n",
        "train_scaled = train_input / 255.0\r\n",
        "\r\n",
        "train_scaled, val_scaled, train_target, val_target = train_test_split(\r\n",
        "    train_scaled, train_target, test_size=0.2, random_state=42)\r\n",
        "\r\n",
        "model.compile(loss='sparse_categorical_crossentropy', metrics='accuracy')\r\n",
        "model.fit(train_scaled, train_target, epochs=5)\r\n",
        "\r\n",
        "model.evaluate(val_scaled, val_target)"
      ],
      "execution_count": 28,
      "outputs": [
        {
          "output_type": "stream",
          "text": [
            "Model: \"sequential_10\"\n",
            "_________________________________________________________________\n",
            "Layer (type)                 Output Shape              Param #   \n",
            "=================================================================\n",
            "flatten_2 (Flatten)          (None, 784)               0         \n",
            "_________________________________________________________________\n",
            "dense_20 (Dense)             (None, 100)               78500     \n",
            "_________________________________________________________________\n",
            "dense_21 (Dense)             (None, 10)                1010      \n",
            "=================================================================\n",
            "Total params: 79,510\n",
            "Trainable params: 79,510\n",
            "Non-trainable params: 0\n",
            "_________________________________________________________________\n",
            "Epoch 1/5\n",
            "1500/1500 [==============================] - 4s 2ms/step - loss: 0.6820 - accuracy: 0.7656\n",
            "Epoch 2/5\n",
            "1500/1500 [==============================] - 3s 2ms/step - loss: 0.4062 - accuracy: 0.8512\n",
            "Epoch 3/5\n",
            "1500/1500 [==============================] - 3s 2ms/step - loss: 0.3568 - accuracy: 0.8716\n",
            "Epoch 4/5\n",
            "1500/1500 [==============================] - 3s 2ms/step - loss: 0.3363 - accuracy: 0.8793\n",
            "Epoch 5/5\n",
            "1500/1500 [==============================] - 3s 2ms/step - loss: 0.3207 - accuracy: 0.8854\n",
            "375/375 [==============================] - 1s 1ms/step - loss: 0.3651 - accuracy: 0.8758\n"
          ],
          "name": "stdout"
        },
        {
          "output_type": "execute_result",
          "data": {
            "text/plain": [
              "[0.3650648891925812, 0.8757500052452087]"
            ]
          },
          "metadata": {
            "tags": []
          },
          "execution_count": 28
        }
      ]
    },
    {
      "cell_type": "code",
      "metadata": {
        "colab": {
          "base_uri": "https://localhost:8080/"
        },
        "id": "AyFyMRxDa22G",
        "outputId": "f29f1e7c-e466-4e0b-a9b6-ba3252d5a11d"
      },
      "source": [
        "# 옵티마이저(adam)\r\n",
        "\r\n",
        "model = keras.Sequential()\r\n",
        "model.add(keras.layers.Flatten(input_shape=(28, 28)))\r\n",
        "model.add(keras.layers.Dense(100, activation='relu'))\r\n",
        "model.add(keras.layers.Dense(10, activation='softmax'))\r\n",
        "\r\n",
        "model.compile(optimizer = 'adam', loss='sparse_categorical_crossentropy', metrics='accuracy')\r\n",
        "model.fit(train_scaled, train_target, epochs=5)\r\n",
        "\r\n",
        "model.evaluate(val_scaled, val_target)"
      ],
      "execution_count": 30,
      "outputs": [
        {
          "output_type": "stream",
          "text": [
            "Epoch 1/5\n",
            "1500/1500 [==============================] - 3s 2ms/step - loss: 0.6746 - accuracy: 0.7661\n",
            "Epoch 2/5\n",
            "1500/1500 [==============================] - 3s 2ms/step - loss: 0.4045 - accuracy: 0.8564\n",
            "Epoch 3/5\n",
            "1500/1500 [==============================] - 3s 2ms/step - loss: 0.3526 - accuracy: 0.8714\n",
            "Epoch 4/5\n",
            "1500/1500 [==============================] - 3s 2ms/step - loss: 0.3321 - accuracy: 0.8776\n",
            "Epoch 5/5\n",
            "1500/1500 [==============================] - 3s 2ms/step - loss: 0.3096 - accuracy: 0.8849\n",
            "375/375 [==============================] - 1s 1ms/step - loss: 0.3352 - accuracy: 0.8796\n"
          ],
          "name": "stdout"
        },
        {
          "output_type": "execute_result",
          "data": {
            "text/plain": [
              "[0.33520084619522095, 0.8795833587646484]"
            ]
          },
          "metadata": {
            "tags": []
          },
          "execution_count": 30
        }
      ]
    }
  ]
}